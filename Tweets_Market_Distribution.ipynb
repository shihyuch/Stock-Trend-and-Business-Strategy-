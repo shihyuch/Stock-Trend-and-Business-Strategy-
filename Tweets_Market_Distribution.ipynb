{
 "cells": [
  {
   "cell_type": "code",
   "execution_count": 148,
   "metadata": {
    "collapsed": false
   },
   "outputs": [],
   "source": [
    "import tweepy\n",
    "import numpy as np\n",
    "import sys\n",
    "import pandas as pd\n",
    "import matplotlib.pyplot as plt\n",
    "import json\n",
    "from tweepy import Stream\n",
    "import csv\n",
    "from tweepy.streaming import StreamListener\n",
    "from tweepy import OAuthHandler\n",
    "from datetime import datetime#\n",
    "import pymongo\n",
    "import ipywidgets as wgt\n",
    "from IPython.display import display\n",
    "from sklearn.feature_extraction.text import CountVectorizer\n",
    "import re\n",
    "\n",
    "pd.options.display.max_columns = 50\n",
    "pd.options.display.max_rows = 50\n",
    "pd.options.display.width = 120\n"
   ]
  },
  {
   "cell_type": "markdown",
   "metadata": {
    "collapsed": false
   },
   "source": [
    "# The goal of this code is to generate market response of each geographical area based on tweets search and company related key words.\n",
    "\n",
    "### The '2' represents the salesman.\n",
    "### The '1' represents the best response.\n",
    "### The '-1' represents the worst response.\n",
    "### Suppose the salesman begins at (lat, long) = (37.33, -121.89) (within Bay Area)\n",
    "### lat_shift = 0.02 degree\n",
    "### long_shift = 0.02 degree\n",
    "### step = 1\n",
    "### We use matrix to represent response geographical distribution and assme that the salesman begins at position [0, 0] at matrix. Following matrix shows that the best response is at the position [1, 2] which corresponds to two steps toward east and one step toward south, i.e., (lat, long) = (37.33 - 1 $\\times$ 0.02, -121.89 + 2 $\\times$ 0.02) = (37.31, -121.85). Simiarly, the worst response is at the position [2, 1] which corresponds to two steps toward south and one step toward east, i.e., (lat, long) = (37.33 - 2 $\\times$ 0.02, -121.89 + 1 $\\times$ 0.02) = (37.29, -121.87).\n",
    "\n",
    "tweets_market = [[ 2,   0,  0],\n",
    "                 [ 0,   0,  1],\n",
    "                 [ 0,  -1,  0 ]]\n",
    "\n"
   ]
  },
  {
   "cell_type": "markdown",
   "metadata": {},
   "source": [
    "# Tweeter Account Credential"
   ]
  },
  {
   "cell_type": "code",
   "execution_count": 149,
   "metadata": {
    "collapsed": true
   },
   "outputs": [],
   "source": [
    "\n",
    "\n",
    "consumer_key = \"Your key\"\n",
    "\n",
    "consumer_secret = \"Your secret\";\n",
    "\n",
    "access_token = \"Your token\";\n",
    "\n",
    "access_token_secret = \"Your token secret\";\n",
    "\n",
    "\n",
    "auth = tweepy.OAuthHandler(consumer_key, consumer_secret)\n",
    "auth.set_access_token(access_token, access_token_secret)\n",
    "\n",
    "api = tweepy.API(auth)"
   ]
  },
  {
   "cell_type": "markdown",
   "metadata": {},
   "source": [
    "# Positive and Negative words in marketing\n",
    "### We created the positive and negative words dictionary by using marketing specific context words  \n",
    "### suggested by McDonald’s research http://www3.nd.edu/~mcdonald/Word_Lists.html. \n",
    "### In this dictionary, we collected 2360 positive words stored in positive_words.txt file\n",
    "### and 7383 negative words stored in negative_words.txt file. "
   ]
  },
  {
   "cell_type": "code",
   "execution_count": 150,
   "metadata": {
    "collapsed": false
   },
   "outputs": [
    {
     "name": "stdout",
     "output_type": "stream",
     "text": [
      "Positive Words: \n",
      "['ABLE\\n', 'ABUNDANCE\\n', 'ABUNDANT\\n', 'ACCLAIMED\\n', 'ACCOMPLISH\\n']\n",
      "Negative Words: \n",
      "['ABANDON\\n', 'ABANDONED\\n', 'ABANDONING\\n', 'ABANDONMENT\\n', 'ABANDONMENTS\\n']\n"
     ]
    }
   ],
   "source": [
    "# Few positive words \n",
    "\n",
    "LINE_COUNT = 5\n",
    "print(\"Positive Words: \")\n",
    "print([s for (i, s) in enumerate(open('positive_words.txt')) if i < LINE_COUNT])\n",
    "\n",
    "# Few negative words \n",
    "\n",
    "LINE_COUNT = 5\n",
    "print(\"Negative Words: \")\n",
    "print([s for (i, s) in enumerate(open('negative_words.txt')) if i < LINE_COUNT])\n"
   ]
  },
  {
   "cell_type": "code",
   "execution_count": 151,
   "metadata": {
    "collapsed": false,
    "scrolled": true
   },
   "outputs": [],
   "source": [
    "\n",
    "# Following codes provide verification a given word is positive or negative\n",
    "\n",
    "def is_positive(word):\n",
    "    with open('positive_words.txt') as f:\n",
    "        found = False\n",
    "        for line in f:\n",
    "            if word.upper() in line: # Key line: check if `w` is in the line.\n",
    "                found = True\n",
    "                return found \n",
    "            else:\n",
    "                continue\n",
    "        return False\n",
    "    \n",
    "def is_negative(word):\n",
    "    with open('negative_words.txt') as f:\n",
    "        found = False\n",
    "        for line in f:\n",
    "            if word.upper() in line: # Key line: check if `w` is in the line.\n",
    "                found = True\n",
    "                return found \n",
    "            else:\n",
    "                continue\n",
    "        return False\n",
    "    \n",
    "# Evaluate tweets score accoding to positive words and negative words dictionary\n",
    "# Final score is the positive words count minus negative words count divided by total words count represented \n",
    "# by percentage\n",
    "    \n",
    "def text_score(tweets):\n",
    "    wordList = re.sub(\"[^\\w]\", \" \",  tweets).split()\n",
    "    positive_count = 0\n",
    "    negative_count = 0\n",
    "    su = 0\n",
    "    for word in wordList: \n",
    "        su = su + 1 \n",
    "        if word.isalpha() and (is_positive(str(word))):\n",
    "            positive_count = positive_count + 1\n",
    "        elif word.isalpha() and (is_negative(str(word))):\n",
    "            negative_count = negative_count + 1      \n",
    "        else:\n",
    "            continue\n",
    "    return (float(positive_count - negative_count)/float(su)) * 100 \n",
    "    \n",
    "    \n",
    "\n",
    "\n"
   ]
  },
  {
   "cell_type": "code",
   "execution_count": 167,
   "metadata": {
    "collapsed": false
   },
   "outputs": [
    {
     "name": "stdout",
     "output_type": "stream",
     "text": [
      "[[2, 1, 1], [1, 1, 0], [0, 0, -1]]\n"
     ]
    }
   ],
   "source": [
    "#### Market Response Generation Function Most Recent\n",
    "\n",
    "def Market_Response_Gen_Func(init_lat, init_long, lat_shift, long_shift, tweets_count, step_size, total_steps, query):\n",
    "\n",
    "    for i in range(0, total_steps):\n",
    "        for j in range(0, total_steps):\n",
    "            if ((i + j) != 0):\n",
    "                geo = str(init_lat + step*i*lat_shift) + \",\" + str(init_long + step*j*long_shift) + \",7km\"\n",
    "                results = api.search(q = query, count = tweets_count, geocode=geo) \n",
    "                if len(results) != 0: \n",
    "                    score_sum = 0\n",
    "                    for k in range(0, len(results)):\n",
    "                        d = results[k].text\n",
    "                        score_sum += text_score(d)\n",
    "                    score_list[i*total_steps + j] = float(score_sum)/float(tweets_count)\n",
    "                else:\n",
    "                    score_list[i*total_steps + j] = -1\n",
    "            else:\n",
    "                score_list[0] = 2\n",
    "    # Because the first position of score_list is to save salseman \n",
    "    # To get tweets_market matrix\n",
    "    max_score_list = max(score_list[1:])\n",
    "    min_score_list = min(score_list[1:])\n",
    "    tweets_market = [[0 for x in range(total_steps)] for y in range(total_steps)] \n",
    "\n",
    "    for i in range(0, total_steps):\n",
    "        for j in range(0, total_steps):\n",
    "            tmp = score_list[i*total_steps + j] \n",
    "            if ((i + j) == 0):\n",
    "                tweets_market[i][j] = 2\n",
    "            else:\n",
    "                if (tmp == max_score_list):\n",
    "                    tweets_market[i][j] = 1\n",
    "                if (tmp == min_score_list):\n",
    "                    tweets_market[i][j] = -1          \n",
    "        \n",
    "    return tweets_market\n",
    "    \n",
    "    ## Bay Area\n",
    "init_lat = 37.33\n",
    "init_long = -121.89\n",
    "lat_shift = 0.02\n",
    "long_shift = 0.02\n",
    "tweets_count = 10\n",
    "step_size = 1\n",
    "total_steps = 3\n",
    "score_list = [0] * (total_steps ** 2)\n",
    "query = 'IBM' \n",
    "\n",
    "\n",
    "print(Market_Response_Gen_Func(init_lat, init_long, lat_shift, long_shift, tweets_count, \\\n",
    "                               step_size, total_steps, query))  \n",
    "\n",
    "tweets_market = Market_Response_Gen_Func(init_lat, init_long, lat_shift, long_shift, tweets_count, \\\n",
    "                               step_size, total_steps, query)\n"
   ]
  },
  {
   "cell_type": "markdown",
   "metadata": {},
   "source": [
    "## Plotting market response by color diagram"
   ]
  },
  {
   "cell_type": "code",
   "execution_count": 169,
   "metadata": {
    "collapsed": false
   },
   "outputs": [
    {
     "data": {
      "image/png": "[encoded data removed]",
      "text/plain": [
       "<matplotlib.figure.Figure at 0x1915b1919b0>"
      ]
     },
     "metadata": {},
     "output_type": "display_data"
    }
   ],
   "source": [
    "%matplotlib inline\n",
    "\n",
    "import gym\n",
    "import itertools\n",
    "import numpy as np\n",
    "import os\n",
    "import random\n",
    "import sys\n",
    "import tensorflow as tf\n",
    "import tensorflow.contrib.slim as slim\n",
    "import scipy.misc\n",
    "\n",
    "\n",
    "\n",
    "if \"../\" not in sys.path:\n",
    "  sys.path.append(\"../\")\n",
    "\n",
    "from reinforcement_denny_lib import plotting\n",
    "from collections import deque, namedtuple\n",
    "from salesman import salesEnv\n",
    "import random\n",
    "import matplotlib.pyplot as plt\n",
    "\n",
    "\n",
    "\n",
    "\n",
    "env = salesEnv(partial=False, size=len(tweets_market), coor=tweets_market)"
   ]
  },
  {
   "cell_type": "markdown",
   "metadata": {},
   "source": [
    "## Market Response with Time Range and associated color diagram"
   ]
  },
  {
   "cell_type": "code",
   "execution_count": 185,
   "metadata": {
    "collapsed": false
   },
   "outputs": [
    {
     "name": "stdout",
     "output_type": "stream",
     "text": [
      "[[2, 0, -1], [0, 0, 0], [0, -1, 1]]\n"
     ]
    }
   ],
   "source": [
    "#### Market Response Generation Function with Time Range\n",
    "\n",
    "def Market_Response_Gen_Func_Time(init_lat, init_long, lat_shift, long_shift, tweets_count, step_size, total_steps,\\\n",
    "                             time_begin, time_end, query):\n",
    "\n",
    "    for i in range(0, total_steps):\n",
    "        for j in range(0, total_steps):\n",
    "            if ((i + j) != 0):\n",
    "                geo = str(init_lat + step*i*lat_shift) + \",\" + str(init_long + step*j*long_shift) + \",7km\"\n",
    "                results = api.search(q = query, count = tweets_count, since = time_begin, until = time_end, geocode=geo) \n",
    "               \n",
    "                if len(results) != 0: \n",
    "                    score_sum = 0\n",
    "                    for k in range(0, len(results)):\n",
    "                        d = results[k].text\n",
    "                        score_sum += text_score(d)\n",
    "                    score_list[i*total_steps + j] = float(score_sum)/float(tweets_count)\n",
    "                else:\n",
    "                    score_list[i*total_steps + j] = -1\n",
    "            else:\n",
    "                score_list[0] = 2\n",
    "    # Because the first position of score_list is to save salseman \n",
    "    # To get tweets_market matrix\n",
    "    max_score_list = max(score_list[1:])\n",
    "    min_score_list = min(score_list[1:])\n",
    "    tweets_market = [[0 for x in range(total_steps)] for y in range(total_steps)] \n",
    "\n",
    "    for i in range(0, total_steps):\n",
    "        for j in range(0, total_steps):\n",
    "            tmp = score_list[i*total_steps + j] \n",
    "            if ((i + j) == 0):\n",
    "                tweets_market[i][j] = 2\n",
    "            else:\n",
    "                if (tmp == max_score_list):\n",
    "                    tweets_market[i][j] = 1\n",
    "                if (tmp == min_score_list):\n",
    "                    tweets_market[i][j] = -1          \n",
    "        \n",
    "    return tweets_market\n",
    "    \n",
    "    ## Bay Area\n",
    "init_lat = 37.33\n",
    "init_long = -121.89\n",
    "lat_shift = 0.02\n",
    "long_shift = 0.02\n",
    "tweets_count = 10\n",
    "step_size = 1\n",
    "total_steps = 3\n",
    "score_list = [0] * (total_steps ** 2)\n",
    "query = 'Apple Inc' \n",
    "\n",
    "time_begin=\"2017-01-20\",\n",
    "time_end=\"2017-01-23\"\n",
    "\n",
    "print(Market_Response_Gen_Func_Time(init_lat, init_long, lat_shift, long_shift, tweets_count, \\\n",
    "                               step_size, total_steps, time_begin, time_end, query))  \n",
    "\n",
    "\n",
    "\n",
    "tweets_market = Market_Response_Gen_Func_Time(init_lat, init_long, lat_shift, long_shift, tweets_count, \\\n",
    "                               step_size, total_steps, time_begin, time_end, query)\n"
   ]
  },
  {
   "cell_type": "code",
   "execution_count": 186,
   "metadata": {
    "collapsed": false
   },
   "outputs": [
    {
     "data": {
      "image/png": "[encoded data removed]",
      "text/plain": [
       "<matplotlib.figure.Figure at 0x1915f35c4a8>"
      ]
     },
     "metadata": {},
     "output_type": "display_data"
    }
   ],
   "source": [
    "##### Plotting market response by color diagram\n",
    "\n",
    "env = salesEnv(partial=False, size=len(tweets_market), coor=tweets_market)"
   ]
  },
  {
   "cell_type": "markdown",
   "metadata": {
    "collapsed": true
   },
   "source": [
    "## Tweets marketing response at each region near Bay Area (latitude = 37.33,  longitude = -121.89). Each sub-square is a region with size 10^2 square miles. The green region is the area with positive tweets response for query \"Apple Inc.\" between dates 2017-01-20 and 2017-01-23.  The red region is the area with negative tweets response for query \"Apple Inc.\" between dates 2017-01-20 and 2017-01-23. The black region is the area with neutral tweets response for same query and time period. The goal for a salesman is to move from the blue sub-square to the green one while avoiding the red ones. "
   ]
  },
  {
   "cell_type": "code",
   "execution_count": null,
   "metadata": {
    "collapsed": true
   },
   "outputs": [],
   "source": []
  }
 ],
 "metadata": {
  "anaconda-cloud": {},
  "kernelspec": {
   "display_name": "Python [Root]",
   "language": "python",
   "name": "Python [Root]"
  },
  "language_info": {
   "codemirror_mode": {
    "name": "ipython",
    "version": 3
   },
   "file_extension": ".py",
   "mimetype": "text/x-python",
   "name": "python",
   "nbconvert_exporter": "python",
   "pygments_lexer": "ipython3",
   "version": "3.5.2"
  }
 },
 "nbformat": 4,
 "nbformat_minor": 0
}
