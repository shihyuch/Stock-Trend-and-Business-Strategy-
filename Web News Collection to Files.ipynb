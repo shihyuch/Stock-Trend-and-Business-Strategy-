{
 "cells": [
  {
   "cell_type": "markdown",
   "metadata": {},
   "source": [
    "### From web, collect news based on company, source, start and end dates from google search results. \n",
    "### File name format, company_source_2016_w_1_title\n",
    "### Input : company, source, year, week\n",
    "\n",
    "1. Using google news archive to get related links (Google not provide API to access news archive search results)\n",
    "1.1 Using market watch archive to get related news\n",
    "2. From each link, get text part and title part and save them as desired file name format \n",
    "\n",
    "\n",
    "\n",
    "### Output :  company_source_2016_w_1_title"
   ]
  },
  {
   "cell_type": "markdown",
   "metadata": {},
   "source": [
    "### Save news ino file with file name format company_source_SearchDate\n",
    "### Text Name (URLs), TextRank, Positive Words Proportion, Negative Words Proportion \n",
    "\n"
   ]
  },
  {
   "cell_type": "code",
   "execution_count": null,
   "metadata": {
    "collapsed": false
   },
   "outputs": [],
   "source": [
    "import os\n",
    "import sys\n",
    "spark_home = os.environ['SPARK_HOME'] = '/home/cloudera/Downloads/spark-2.0.1-bin-hadoop2.6/'\n",
    "if not spark_home:\n",
    "    raise ValueError('SPARK_HOME enviroment variable is not set')\n",
    "sys.path.insert(0,os.path.join(spark_home,'python'))\n",
    "sys.path.insert(0,os.path.join(spark_home,'python/lib/py4j-0.8.2.1-src.zip'))\n",
    "execfile(os.path.join(spark_home,'python/pyspark/shell.py'))"
   ]
  },
  {
   "cell_type": "code",
   "execution_count": 18,
   "metadata": {
    "collapsed": false
   },
   "outputs": [
    {
     "name": "stdout",
     "output_type": "stream",
     "text": [
      "Input the English word: strong \n",
      "The translation cannot be found!\n"
     ]
    }
   ],
   "source": [
    "w = raw_input(\"Input the English word: \") # For Python 3: use input() instead\n",
    "with open('positive_words.txt') as f:\n",
    "    found = False\n",
    "    for line in f:\n",
    "        if w.upper() in line: # Key line: check if `w` is in the line.\n",
    "            print(line)\n",
    "            found = True\n",
    "    if not found:\n",
    "        print('The translation cannot be found!')"
   ]
  },
  {
   "cell_type": "code",
   "execution_count": 3,
   "metadata": {
    "collapsed": true
   },
   "outputs": [],
   "source": [
    "\n",
    "import io\n",
    "import nltk\n",
    "import itertools\n",
    "from operator import itemgetter\n",
    "import networkx as nx\n",
    "import os\n",
    "import re\n",
    "from nltk.corpus import stopwords\n",
    "\n",
    "\n",
    "#apply syntactic filters based on POS tags\n",
    "def filter_for_tags(tagged, tags=['NN', 'JJ', 'NNP']):\n",
    "    return [item for item in tagged if item[1] in tags]\n",
    "\n",
    "def normalize(tagged):\n",
    "    return [(item[0].replace('.', ''), item[1]) for item in tagged]\n",
    "\n",
    "def unique_everseen(iterable, key=None):\n",
    "    \"List unique elements, preserving order. Remember all elements ever seen.\"\n",
    "    # unique_everseen('AAAABBBCCDAABBB') --> A B C D\n",
    "    # unique_everseen('ABBCcAD', str.lower) --> A B C D\n",
    "    seen = set()\n",
    "    seen_add = seen.add\n",
    "    if key is None:\n",
    "        for element in itertools.ifilterfalse(seen.__contains__, iterable):\n",
    "            seen_add(element)\n",
    "            yield element\n",
    "    else:\n",
    "        for element in iterable:\n",
    "            k = key(element)\n",
    "            if k not in seen:\n",
    "                seen_add(k)\n",
    "                yield element\n",
    "\n",
    "def lDistance(firstString, secondString):\n",
    "    \"Function to find the Levenshtein distance between two words/sentences - gotten from http://rosettacode.org/wiki/Levenshtein_distance#Python\"\n",
    "    if len(firstString) > len(secondString):\n",
    "        firstString, secondString = secondString, firstString\n",
    "    distances = range(len(firstString) + 1)\n",
    "    for index2, char2 in enumerate(secondString):\n",
    "        newDistances = [index2 + 1]\n",
    "        for index1, char1 in enumerate(firstString):\n",
    "            if char1 == char2:\n",
    "                newDistances.append(distances[index1])\n",
    "            else:\n",
    "                newDistances.append(1 + min((distances[index1], distances[index1+1], newDistances[-1])))\n",
    "        distances = newDistances\n",
    "    return distances[-1]\n",
    "\n",
    "def buildGraph(nodes):\n",
    "    \"nodes - list of hashables that represents the nodes of the graph\"\n",
    "    gr = nx.Graph() #initialize an undirected graph\n",
    "    gr.add_nodes_from(nodes)\n",
    "    nodePairs = list(itertools.combinations(nodes, 2))\n",
    "\n",
    "    #add edges to the graph (weighted by Levenshtein distance)\n",
    "    for pair in nodePairs:\n",
    "        firstString = pair[0]\n",
    "        secondString = pair[1]\n",
    "        levDistance = lDistance(firstString, secondString)\n",
    "        gr.add_edge(firstString, secondString, weight=levDistance)\n",
    "\n",
    "    return gr\n",
    "\n",
    "def extractKeyphrases(text):\n",
    "    # Removing stopwords\n",
    "    #pattern = re.compile(r'\\b(' + r'|'.join(stopwords.words('english')) + r')\\b\\s*')\n",
    "    #text = pattern.sub('', text)\n",
    "   \n",
    "    # tokenize the text using nltk\n",
    "    wordTokens = nltk.word_tokenize(text)\n",
    "\n",
    "    # assign POS tags to the words in the text\n",
    "    tagged = nltk.pos_tag(wordTokens)\n",
    "    textlist = [x[0] for x in tagged]\n",
    "    \n",
    "    tagged = filter_for_tags(tagged)\n",
    "    tagged = normalize(tagged)\n",
    "\n",
    "    unique_word_set = unique_everseen([x[0] for x in tagged])\n",
    "    word_set_list = list(unique_word_set)\n",
    "\n",
    "    # this will be used to determine adjacent words in order to construct keyphrases with two words\n",
    "    graph = buildGraph(word_set_list)\n",
    "    # pageRank - initial value of 1.0, error tolerance of 0,0001, \n",
    "    calculated_page_rank = nx.pagerank(graph, weight='weight')\n",
    "    #print (calculated_page_rank)\n",
    "    # most important words in ascending order of importance\n",
    "    keyphrases = sorted(calculated_page_rank, key=calculated_page_rank.get, reverse=True)\n",
    "    # the number of keyphrases returned will be relative to the size of the text (a third of the number of vertices)\n",
    "    aThird = len(word_set_list) / 3\n",
    "    keyphrases = keyphrases[0:aThird+1]\n",
    "    # take keyphrases with multiple words into consideration as done in the paper - if two words are adjacent \n",
    "    # in the text and are selected as keywords, join them together\n",
    "    modifiedKeyphrases = set([])\n",
    "    dealtWith = set([]) #keeps track of individual keywords that have been joined to form a keyphrase\n",
    "    i = 0\n",
    "    j = 1\n",
    "    while j < len(textlist):\n",
    "        firstWord = textlist[i]\n",
    "        secondWord = textlist[j]\n",
    "        if firstWord in keyphrases and secondWord in keyphrases:\n",
    "            keyphrase = firstWord + ' ' + secondWord\n",
    "            modifiedKeyphrases.add(keyphrase)\n",
    "            dealtWith.add(firstWord)\n",
    "            dealtWith.add(secondWord)\n",
    "        else:\n",
    "            if firstWord in keyphrases and firstWord not in dealtWith: \n",
    "                modifiedKeyphrases.add(firstWord)\n",
    "            #if this is the last word in the text, and it is a keyword,\n",
    "            #it definitely has no chance of being a keyphrase at this point    \n",
    "            if j == len(textlist)-1 and secondWord in keyphrases and secondWord not in dealtWith:\n",
    "                modifiedKeyphrases.add(secondWord)      \n",
    "        i = i + 1\n",
    "        j = j + 1\n",
    "        \n",
    "    return  calculated_page_rank, modifiedKeyphrases\n",
    "\n",
    "def extractSentences(text):\n",
    "    sent_detector = nltk.data.load('tokenizers/punkt/english.pickle')\n",
    "    sentenceTokens = sent_detector.tokenize(text.strip())\n",
    "    graph = buildGraph(sentenceTokens)\n",
    "\n",
    "    calculated_page_rank = nx.pagerank(graph, weight='weight')\n",
    "\n",
    "    #most important sentences in ascending order of importance\n",
    "    sentences = sorted(calculated_page_rank, key=calculated_page_rank.get, reverse=True)\n",
    "\n",
    "    #return a 100 word summary\n",
    "    summary = ' '.join(sentences)\n",
    "    summaryWords = summary.split()\n",
    "    summaryWords = summaryWords[0:101]\n",
    "    summary = ' '.join(summaryWords)\n",
    "\n",
    "    return summary\n",
    "\n",
    "def writeFiles(summary, keyphrases, fileName):\n",
    "    \"outputs the keyphrases and summaries to appropriate files\"\n",
    "    print \"Generating output to \" + 'TextRank-master/keywords/' + fileName\n",
    "    keyphraseFile = io.open('TextRank-master/keywords/' + fileName, 'w')\n",
    "    for keyphrase in keyphrases:\n",
    "        keyphraseFile.write(keyphrase + '\\n')\n",
    "    keyphraseFile.close()\n",
    "\n",
    "    print \"Generating output to \" + 'TextRank-master/summaries/' + fileName\n",
    "    summaryFile = io.open('TextRank-master/summaries/' + fileName, 'w')\n",
    "    summaryFile.write(summary)\n",
    "    summaryFile.close()\n",
    "\n",
    "    print \"-\"\n",
    "\n",
    "def mainRunner():\n",
    "    #nltk.download()\n",
    "    #retrieve each of the articles\n",
    "    articles = os.listdir(\"TextRank-master/articles\")\n",
    "    for article in articles:\n",
    "        print 'Reading articles/' + article\n",
    "        articleFile = io.open('TextRank-master/articles/' + article, 'r')\n",
    "        text = articleFile.read()\n",
    "        keyphrases = extractKeyphrases(text)\n",
    "        summary = extractSentences(text)\n",
    "        writeFiles(summary, keyphrases, article)"
   ]
  },
  {
   "cell_type": "code",
   "execution_count": 127,
   "metadata": {
    "collapsed": false
   },
   "outputs": [],
   "source": [
    "import requests\n",
    "import re\n",
    "import urllib\n",
    "from bs4 import BeautifulSoup\n",
    "import urllib2\n",
    "\n",
    "#page = requests.get(\"https://www.google.com/search?cf=all&hl=en&pz=1&ned=us&tbm=nws&gl=us&as_q=IBM&as_occt=any&as_drrb=b&as_mindate=11%2F1%2F2016&as_maxdate=11%2F30%2F2016&tbs=cdr%3A1%2Ccd_min%3A11%2F1%2F2016%2Ccd_max%3A11%2F30%2F2016&as_nsrc=cnn&authuser=0\")\n",
    "\n",
    "page = requests.get(\"http://query.nytimes.com/search/sitesearch/?action=click&contentCollection&region=TopBar&WT.nav=searchWidget&module=SearchSubmit&pgtype=Homepage#/IBM/from20161101to20161130/allresults/1/allauthors/newest/\")\n",
    "soup = BeautifulSoup(page.content)\n",
    "#print(soup)\n",
    "#url = generate_GOOGLE_query_url('IBM', 'cnn', '11', '1', '2016', '11', '30', '2016')\n",
    "#text = urllib.urlopen(url).read()\n",
    "#soup = BeautifulSoup(text)\n",
    "\n",
    "#links = soup.findAll(\"a\")\n",
    "#for link in  soup.find_all(\"a\",href=re.compile(\"(?<=/url\\?q=)(htt.*://.*)\")):\n",
    "for link in  soup.find_all('a', href=re.compile(\"(?<=/url\\?q=)(htt.*://.*)\")):\n",
    "    tmp = re.split(\":(?=http)\",link[\"href\"].replace(\"/url?q=\",\"\"))\n",
    "    k = str(tmp).split('&sa')\n",
    "    k = k[0][2:]\n",
    "    print k"
   ]
  },
  {
   "cell_type": "code",
   "execution_count": 1,
   "metadata": {
    "collapsed": false
   },
   "outputs": [
    {
     "name": "stdout",
     "output_type": "stream",
     "text": [
      "http://www.bloomberg.com/news/articles/2017-01-04/ford-toyota-form-telematics-bloc-to-stymie-google-and-apple\n",
      "http://www.bloomberg.com/news/articles/2017-01-04/in-apple-spotify-world-soundcloud-can-t-find-room\n",
      "http://www.bloomberg.com/news/articles/2017-01-03/india-poised-to-reject-apple-s-demand-for-manufacturing-sops\n",
      "http://www.bloomberg.com/news/articles/2016-12-30/apple-said-to-seek-lower-taxes-to-start-manufacturing-in-india-ixbnbvap\n",
      "http://www.bloomberg.com/news/articles/2016-12-27/fitbit-gains-after-app-reaches-first-place-in-apple-store\n",
      "http://www.bloomberg.com/news/articles/2016-12-22/popular-mobile-game-pokemon-go-lands-on-apple-watch\n",
      "http://www.bloomberg.com/news/articles/2016-12-21/nokia-sues-apple-over-alleged-patent-infringement-in-products\n",
      "http://www.bloomberg.com/news/articles/2016-12-21/apple-s-search-for-better-iphone-screens-leads-to-japan-s-rice-fields\n",
      "http://www.bloomberg.com/news/articles/2016-12-21/eu-partly-wins-top-court-fight-over-spanish-m-a-tax-breaks\n",
      "http://www.bloomberg.com/press-releases/2016-12-22/nokia-nokia-expands-patent-litigation-against-apple-in-asia-europe-and-the-us\n",
      "http://www.bloomberg.com/press-releases/2016-12-21/nokia-nokia-sues-apple-in-europe-and-the-us-for-infringement-of-nokia-patents\n",
      "http://www.bloomberg.com/press-releases/2016-12-19/capcom-to-release-six-classic-8-bit-mega-man-r-games-to-ios-and-android-platforms-in-january\n",
      "http://www.bloomberg.com/press-releases/2016-12-15/interdigital-announces-patent-license-agreement-with-apple\n",
      "http://www.bloomberg.com/press-releases/2016-12-15/weight-watchers-unveils-new-apple-watch-subscription-plan\n",
      "http://www.bloomberg.com/press-releases/2016-12-13/gray-targets-millennials-by-delivering-local-news-through-haystack-tv-s-ott-platform\n",
      "http://www.bloomberg.com/press-releases/2016-12-09/federal-circuit-issues-decisions-in-patent-office-proceedings\n",
      "http://www.bloomberg.com/press-releases/2016-12-05/fitness-trackers-in-the-lead-as-wearables-market-grows-3-1-in-the-third-quarter-according-to-idc\n",
      "http://www.bloomberg.com/press-releases/2016-11-30/apple-turns-red-with-more-ways-than-ever-to-join-the-fight-against-aids\n",
      "http://www.bloomberg.com/press-releases/2016-11-17/free-hour-of-code-workshops-december-5-through-11-at-every-apple-store\n"
     ]
    }
   ],
   "source": [
    "############## TEST #############\n",
    "\n",
    "import urllib\n",
    "import lxml.html\n",
    "# financial news website with date\n",
    "#connection = urllib.urlopen('http://www.marketwatch.com/search?q=IBM&m=Keyword&rpp=15&mp=2005&bd=true&bd=false&bdv=11%2F30%2F2016&rs=true')\n",
    "connection = urllib.urlopen('https://www.bloomberg.com/quote/aapl:US')\n",
    "dom =  lxml.html.fromstring(connection.read())\n",
    "# //a/@href\n",
    "for link in dom.xpath('//a/@href'): # select the url in href for all a tags(links)\n",
    "    tmp = str(link)\n",
    "    #if ((\"artiles/\" in tmp) or (\"press-releases/\" in tmp)):\n",
    "    if (\"articles/\" in tmp):\n",
    "        print link\n",
    "    elif (\"press-releases/\" in tmp):\n",
    "        print link\n",
    "    else:\n",
    "        continue\n",
    "    "
   ]
  },
  {
   "cell_type": "code",
   "execution_count": 110,
   "metadata": {
    "collapsed": false,
    "scrolled": true
   },
   "outputs": [
    {
     "name": "stdout",
     "output_type": "stream",
     "text": [
      "http://www.bloomberg.com/news/articles/2016-12-30/apple-said-to-seek-lower-taxes-to-start-manufacturing-in-india-ixbnbvap\n",
      "http://www.bloomberg.com/news/articles/2016-12-27/fitbit-gains-after-app-reaches-first-place-in-apple-store\n",
      "http://www.bloomberg.com/news/articles/2016-12-22/popular-mobile-game-pokemon-go-lands-on-apple-watch\n",
      "http://www.bloomberg.com/news/articles/2016-12-21/nokia-sues-apple-over-alleged-patent-infringement-in-products\n",
      "http://www.bloomberg.com/news/articles/2016-12-21/apple-s-search-for-better-iphone-screens-leads-to-japan-s-rice-fields\n",
      "http://www.bloomberg.com/news/articles/2016-12-21/eu-partly-wins-top-court-fight-over-spanish-m-a-tax-breaks\n",
      "http://www.bloomberg.com/news/articles/2016-12-20/your-evening-briefing\n",
      "http://www.bloomberg.com/news/articles/2016-12-20/how-apple-alienated-mac-loyalists\n",
      "http://www.bloomberg.com/press-releases/2016-12-22/nokia-nokia-expands-patent-litigation-against-apple-in-asia-europe-and-the-us\n",
      "http://www.bloomberg.com/press-releases/2016-12-21/nokia-nokia-sues-apple-in-europe-and-the-us-for-infringement-of-nokia-patents\n",
      "http://www.bloomberg.com/press-releases/2016-12-19/capcom-to-release-six-classic-8-bit-mega-man-r-games-to-ios-and-android-platforms-in-january\n",
      "http://www.bloomberg.com/press-releases/2016-12-15/interdigital-announces-patent-license-agreement-with-apple\n",
      "http://www.bloomberg.com/press-releases/2016-12-15/weight-watchers-unveils-new-apple-watch-subscription-plan\n",
      "http://www.bloomberg.com/press-releases/2016-12-13/gray-targets-millennials-by-delivering-local-news-through-haystack-tv-s-ott-platform\n",
      "http://www.bloomberg.com/press-releases/2016-12-09/federal-circuit-issues-decisions-in-patent-office-proceedings\n",
      "http://www.bloomberg.com/press-releases/2016-12-05/fitness-trackers-in-the-lead-as-wearables-market-grows-3-1-in-the-third-quarter-according-to-idc\n",
      "http://www.bloomberg.com/press-releases/2016-11-30/apple-turns-red-with-more-ways-than-ever-to-join-the-fight-against-aids\n",
      "http://www.bloomberg.com/press-releases/2016-11-17/free-hour-of-code-workshops-december-5-through-11-at-every-apple-store\n"
     ]
    }
   ],
   "source": [
    "####### bloomberg businessweek latest news URLs extraction\n",
    "import urllib\n",
    "import lxml.html\n",
    "# financial news website with date\n",
    "#connection = urllib.urlopen('http://www.marketwatch.com/search?q=IBM&m=Keyword&rpp=15&mp=2005&bd=true&bd=false&bdv=11%2F30%2F2016&rs=true')\n",
    "connection = urllib.urlopen('https://www.bloomberg.com/quote/aapl:US')\n",
    "dom =  lxml.html.fromstring(connection.read())\n",
    "# //a/@href\n",
    "for link in dom.xpath('//a/@href'): # select the url in href for all a tags(links)\n",
    "    tmp = str(link)\n",
    "    #if ((\"artiles/\" in tmp) or (\"press-releases/\" in tmp)):\n",
    "    if (\"articles/\" in tmp):\n",
    "        print link\n",
    "    elif (\"press-releases/\" in tmp):\n",
    "        print link\n",
    "    else:\n",
    "        continue\n",
    "    "
   ]
  },
  {
   "cell_type": "code",
   "execution_count": 124,
   "metadata": {
    "collapsed": false,
    "scrolled": true
   },
   "outputs": [
    {
     "name": "stdout",
     "output_type": "stream",
     "text": [
      "http://www.marketwatch.com/story/10-things-not-to-buy-in-2017-2016-12-20\n",
      "http://www.marketwatch.com/story/the-5-tech-trends-that-will-dominate-ces-and-2017-2016-12-29\n",
      "http://www.marketwatch.com/story/amazon-alexa-gets-childs-request-really-wrong-offers-up-porn-2016-12-30\n",
      "http://www.marketwatch.com/story/goldman-sachs-describes-two-different-trump-economies-so-which-is-right-2016-12-29\n",
      "http://www.marketwatch.com/story/seven-highly-valued-tech-startups-that-could-ipo-in-2017-2016-12-30\n",
      "http://www.marketwatch.com/story/5-things-you-should-absolutely-not-buy-in-2017-2016-12-30-12107041\n",
      "http://www.marketwatch.com/story/the-2017-tech-shopping-spree-is-upon-us-2016-12-30\n",
      "http://www.marketwatch.com/story/the-ipo-market-is-in-the-dumps-and-all-the-tax-cuts-in-the-world-wont-help-2016-12-27\n",
      "http://www.marketwatch.com/story/foxconn-announces-plan-for-new-flat-panel-factory-in-china-2016-12-30\n",
      "http://www.marketwatch.com/story/the-must-see-photos-of-2016-2016-12-16\n",
      "http://www.marketwatch.com/story/5-apps-for-spying-on-your-spouse-2014-03-10\n",
      "http://www.marketwatch.com/story/apple-samsung-missed-opportunities-analysts-say-2016-12-28\n",
      "http://www.marketwatch.com/story/the-nasty-rise-of-flash-mob-robbers-2016-11-23\n",
      "http://www.marketwatch.com/story/the-dow-is-arguably-the-best-active-fund-ever-engineered-2016-12-22\n",
      "http://www.marketwatch.com/story/heres-when-the-new-bull-market-starts-for-gold-2016-12-28\n",
      "http://www.marketwatch.com/story/founder-departs-lumber-liquidators-2016-12-30?link=MW_latest_news\n",
      "http://www.marketwatch.com/story/i-want-my-disabled-sister-out-of-my-our-family-home-2016-02-12?link=MW_latest_news\n",
      "http://www.marketwatch.com/story/death-the-facebook-way-social-networkers-upstage-the-deceased-2014-08-14?link=MW_latest_news\n",
      "http://www.marketwatch.com/story/10-things-not-to-buy-in-2017-2016-12-20?link=MW_latest_news\n",
      "http://www.marketwatch.com/story/why-obamas-we-the-people-online-petitions-were-a-missed-opportunity-for-us-consumers-2016-12-30?link=MW_latest_news\n",
      "http://www.marketwatch.com/story/its-president-trump-versus-candidate-trump-on-the-big-issues-2016-12-30?link=MW_latest_news\n",
      "http://www.marketwatch.com/story/dow-industrials-post-best-annual-gain-in-3-years-2016-12-30?link=MW_latest_news\n",
      "http://www.marketwatch.com/story/7-mutual-funds-and-etfs-that-entered-the-graveyard-in-2016-2016-12-30?link=MW_latest_news\n",
      "http://www.marketwatch.com/story/wall-street-stocks-aim-for-a-positive-final-session-in-another-bullish-year-2016-12-30?link=MW_latest_news\n",
      "http://www.marketwatch.com/story/here-are-the-biggest-etf-winners-and-losers-of-2016-2016-12-30?link=MW_latest_news\n",
      "http://www.marketwatch.com/story/stocks-end-slightly-lower-but-log-solid-2016-gains-2016-12-30?link=MW_latest_news\n",
      "http://www.marketwatch.com/story/heres-why-tesla-is-bairds-top-stock-market-pick-for-2017-2016-12-30?link=MW_latest_news\n",
      "http://www.marketwatch.com/story/moneyologist-all-stars-update-marketwatch-readers-on-their-lives-2016-12-20?link=TDheader_2\n",
      "http://www.marketwatch.com/story/moneyologist-all-stars-update-marketwatch-readers-on-their-lives-2016-12-20?link=TDimage_2\n",
      "http://www.marketwatch.com/story/moneyologist-all-stars-update-marketwatch-readers-on-their-lives-2016-12-20?link=TDheadline_2\n",
      "http://www.marketwatch.com/story/moneyologist-all-stars-update-marketwatch-readers-on-their-lives-2016-12-20?link=TDviewmore_2\n"
     ]
    }
   ],
   "source": [
    "####### Market watch latest news URLs extraction\n",
    "import urllib\n",
    "import lxml.html\n",
    "connection = urllib.urlopen('http://www.marketwatch.com/search?q=apple&m=Keyword&rpp=15&mp=0&bd=true&bd=false&bdv=12%2F30%2F2016&rs=true')\n",
    "dom =  lxml.html.fromstring(connection.read())\n",
    "# //a/@href\n",
    "for link in dom.xpath('//a/@href'): # select the url in href for all a tags(links)\n",
    "    tmp = str(link)\n",
    "    if (\"story/\" in tmp) and (\"http\" in tmp):\n",
    "        print link\n",
    "    elif (\"story/\" in tmp) and (\"http\" not in tmp):\n",
    "        print \"http://www.marketwatch.com\" + tmp\n",
    "    else:\n",
    "        continue"
   ]
  },
  {
   "cell_type": "code",
   "execution_count": 123,
   "metadata": {
    "collapsed": false,
    "scrolled": true
   },
   "outputs": [
    {
     "name": "stdout",
     "output_type": "stream",
     "text": [
      "https://www.thestreet.com/story/13939355/1/jack-dorsey-asks-what-do-you-want-on-twitter-tech-roundup.html?puc=CNNMONEY&cm_ven=CNNMONEY\n",
      "http://www.zacks.com/research-daily/99602/Top-Research-Reports-for-December-30,-2016?cid=CS-CNN-HL-99602\n",
      "https://www.thestreet.com/story/13939313/1/dow-s-amp-p-500-and-nasdaq-close-out-2016-with-strong-gains.html?puc=CNNMONEY&cm_ven=CNNMONEY\n",
      "https://www.thestreet.com/story/13939275/1/apple-reportedly-cutting-back-production-for-the-iphone-7.html?puc=CNNMONEY&cm_ven=CNNMONEY\n",
      "https://www.thestreet.com/story/13939246/1/potential-apple-iphone-production-cut-not-a-happy-story-for-tim-cook-top-trader-says.html?puc=CNNMONEY&cm_ven=CNNMONEY\n",
      "http://www.zacks.com/stock/news/244074/nintendo-to-launch-super-mario-runs-android-version-soon?cid=CS-CNN-HL-244074\n",
      "http://www.zacks.com/stock/news/244067/apple-aapl-continues-to-increase-its-focus-on-india?cid=CS-CNN-HL-244067\n"
     ]
    }
   ],
   "source": [
    "####### CNN Money news URLs extraction\n",
    "import urllib\n",
    "import lxml.html\n",
    "connection = urllib.urlopen('http://money.cnn.com/quote/quote.html?symb=aapl')\n",
    "dom =  lxml.html.fromstring(connection.read())\n",
    "# //a/@href\n",
    "ini_string = 'a'\n",
    "for link in dom.xpath('//a/@href'): # select the url in href for all a tags(links)\n",
    "    tmp = str(link)\n",
    "    next_string =  tmp\n",
    "    if (ini_string != next_string) and ((\"zacks.com\" in tmp) or (\"story/\" in tmp)):\n",
    "        print link\n",
    "        ini_string = next_string\n",
    "    else:\n",
    "        continue\n"
   ]
  },
  {
   "cell_type": "code",
   "execution_count": 114,
   "metadata": {
    "collapsed": false,
    "scrolled": true
   },
   "outputs": [
    {
     "name": "stdout",
     "output_type": "stream",
     "text": [
      "http://www.forbes.com/sites/ewanspence/2016/12/30/apple-news-headlines-iphone-leak-rumor-airpods-macbook-pro/?utm_source=yahoo&utm_medium=partner&utm_campaign=yahootix&partner=yahootix\n",
      "http://finance.yahoo.com/video/stocks-end-16-whisper-tech-230127024.html\n",
      "http://sg.finance.yahoo.com/news/asia-stocks-dollar-subdued-last-012253513.html\n",
      "http://www.investopedia.com/news/apple-cuts-iphone-production-stock-slips-aapl/?partner=YahooSA\n",
      "http://uk.finance.yahoo.com/news/us-stocks-wall-st-ends-211832803.html\n"
     ]
    }
   ],
   "source": [
    "####### Invenstor Guide URLs extraction\n",
    "import urllib\n",
    "import lxml.html\n",
    "connection = urllib.urlopen('http://www.investorguide.com/stock.php?ticker=aapl')\n",
    "dom =  lxml.html.fromstring(connection.read())\n",
    "ini_string = 'a'\n",
    "for link in dom.xpath('//a/@href'): # select the url in href for all a tags(links)\n",
    "    tmp = str(link)\n",
    "    next_string =  tmp\n",
    "    if (ini_string != next_string) and (\"http://\" in tmp) and (\"facebook.com\" not in tmp) and (\"twitter.com\" not in tmp) and (\"webfinanceinc.com\" not in tmp):\n",
    "        print link\n",
    "        ini_string = next_string\n",
    "    else:\n",
    "        continue"
   ]
  },
  {
   "cell_type": "code",
   "execution_count": 115,
   "metadata": {
    "collapsed": false,
    "scrolled": true
   },
   "outputs": [
    {
     "name": "stdout",
     "output_type": "stream",
     "text": [
      "https://finance.yahoo.com/news/the-worst-tech-moments-of-2016-191120332.html\n",
      "https://finance.yahoo.com/news/how-samsung-can-recover-from-its-explosive-2016-123708872.html\n",
      "https://finance.yahoo.com/news/david-pogue-best-tech-ideas-for-2016-152642724.html\n",
      "https://finance.yahoo.com/news/the-worst-tech-moments-of-2016-191120332.html\n",
      "https://finance.yahoo.com/news/you-can-change-your-iphone-battery-151208103.html\n"
     ]
    }
   ],
   "source": [
    "# Yahoo Finance URLs extraction\n",
    "import urllib\n",
    "import lxml.html\n",
    "connection = urllib.urlopen('https://finance.yahoo.com/quote/AAPL/?p=AAPL')\n",
    "dom =  lxml.html.fromstring(connection.read())\n",
    "# //a/@href\n",
    "path_pools = set()\n",
    "path_pools = dom.xpath('//a/@href')\n",
    "ini_string = 'a'\n",
    "for link in path_pools: # select the url in href for all a tags(links)\n",
    "    \n",
    "    tmp = str(link)\n",
    "    next_string =  tmp\n",
    "    if (ini_string != next_string) and (\"news/\" in tmp) and (\".html\" in tmp):\n",
    "        print \"https://finance.yahoo.com\"+ tmp\n",
    "        ini_string = next_string\n",
    "    else:\n",
    "        continue\n",
    "        "
   ]
  },
  {
   "cell_type": "code",
   "execution_count": 4,
   "metadata": {
    "collapsed": false,
    "scrolled": true
   },
   "outputs": [
    {
     "name": "stdout",
     "output_type": "stream",
     "text": [
      "{u'Canada': 0.0027923901972656795, u'end-of-day': 0.003962053795845371, u'SIX': 0.0027020136434710075, u'dollar': 0.002777976957366703, u'month': 0.002610717413813308, u'Take': 0.0025006148289729167, u\"Figures'\": 0.0032318707610021788, u'Shakers': 0.0029184022685576944, u'Today': 0.002636437054882979, u'Business': 0.0031820629116803122, u'Bonds': 0.00260940314531076, u'Moneyologist': 0.004395183605941991, u'Authors': 0.002982577148024729, u'Hedge': 0.002621103938356175, u'tethered': 0.003203048829622982, u'Nutting': 0.0029817031005832705, u'Iranian': 0.0029110201354603524, u'Obamacare': 0.003546463878484593, u'P': 0.0026986169308276147, u'join': 0.0024958107895927117, u'Emerging': 0.003224280760932025, u'presidency': 0.003740039001538832, u'Retire': 0.002653881842547782, u'Nasdaq': 0.0028282971006935173, u'Darrell': 0.0029461028583043333, u'Partner': 0.002853600046488528, u'Index': 0.0026421335229050774, u'Rex': 0.0025526469074649573, u'Spending': 0.00319435002845348, u'Conduct': 0.0029575260165192858, u'Screener': 0.003171263776300885, u'East': 0.0025279594984009618, u'current': 0.002908143812944394, u'Amazon': 0.002810289802732081, u'Former': 0.0026756102666014784, u'Bill': 0.0025980250387982557, u'exchange': 0.003238998803453304, u'Irwin': 0.002616211762747332, u'Published': 0.0035275692218447747, u'My': 0.002664554089930334, u'Guggenheim': 0.0038692902241447336, u'Insight': 0.0030437944119498244, u'Back': 0.002587792115116451, u'Jennifer': 0.0031867895552872435, u'credit': 0.0027264448686850507, u'Intraday': 0.003226113758441238, u'Home': 0.00248787344432604, u'SEHK': 0.002746727873662957, u'Jet': 0.0024585764504081176, u'Privacy': 0.0030299997432800666, u'Things': 0.0028153939611963905, u'Robert': 0.0026987762271897297, u'fixer-upper': 0.004188103910774378, u'fake': 0.002503183806729469, u'market': 0.0026846240697774503, u'use': 0.002481475570610702, u'Currencies': 0.0036753703349988384, u'next': 0.0025154682261130787, u'Chuck': 0.00274968565611958, u'Snapshot': 0.003259284678460764, u'Scouts': 0.0027847924871428364, u'Latest': 0.0026942547586510067, u'Financial': 0.003492834308501043, u'Feedback': 0.0032879719887597835, u'car': 0.0024532673091750227, u'Video': 0.0026224367848912814, u'SM': 0.0026842846735461363, u'Archive': 0.003002314351660605, u'Inc': 0.0025528954812555457, u'Israeli': 0.002933814937180309, u'Retirement': 0.0037178330850533257, u'Federal': 0.002940654006860193, u'Media': 0.002595820944265124, u'Virtual': 0.0029881943956624763, u'Policy': 0.0027423746147855377, u'information': 0.004048614450817266, u'conversation': 0.004243204382461009, u'travel': 0.0027217875773843684, u'Clayton': 0.0029728363345297836, u'Long-Term': 0.003535103020625073, u'product': 0.0029968697212502983, u'Reprints': 0.0031410023916048913, u'Watchlist': 0.0035203564766140174, u'Dow': 0.0025853796835913867, u'View': 0.0025465603500181124, u'All': 0.002621739265777779, u'Apple': 0.0026824149621226634, u'Bischoff': 0.003382272744668088, u'Film': 0.0025951124332190367, u'How-to': 0.0028408564707278977, u'Jay': 0.0025602307627534617, u'Mutual': 0.002811187417356019, u'Copyright': 0.0035216987917904446, u'Exchange': 0.003244188369299576, u'Arends': 0.002753273686083598, u'clamor': 0.0027823986000560996, u'Mobile': 0.0027119451989922744, u'auto': 0.0025254517295841402, u'Don\\u2019t': 0.0026281817279264486, u'milestone': 0.0034081576756894725, u'Indices': 0.0029262772006242734, u'Saving': 0.0027501760125944836, u'IPO': 0.0027141567203211115, u'Spender': 0.0029117383990320913, u'Planning': 0.0032280148192143816, u'Global': 0.0028392226058244967, u'From': 0.002581218697089263, u'Network': 0.00299892653232555, u'house': 0.002584883089991407, u'year': 0.0024949208497407178, u'Finder': 0.0027065295049104017, u'More': 0.002420045888812862, u'Openshaw': 0.0032780091107872432, u'CEO': 0.002698720852515107, u'CES': 0.0026965167428705944, u'Report': 0.002756698535668235, u'monster': 0.002875544734441772, u'free': 0.00250054829557822, u'Historical': 0.0037324300473576314, u'Corrections': 0.0039391180327456934, u'ET': 0.002697421912016396, u'Security': 0.0031761478151358484, u'Options': 0.002952633129435587, u'Money': 0.002546266348006319, u'Topics': 0.002738709370703413, u'Currency': 0.0031765978672246378, u'Faraday': 0.0029684788877291164, u'Working': 0.002932144907714096, u'Palestinian': 0.004005867186444287, u'Newsroom': 0.003300114579132983, u'Asia': 0.002566081748598168, u'Convicted': 0.003413397597454478, u'Earnings': 0.0031741990282263743, u'Contracts': 0.0033832870257701785, u'Funds': 0.0026590204674314813, u'top': 0.002531382185427084, u'SEC': 0.00269642430120076, u'Coombes': 0.0029412119805934936, u'Stocks': 0.0028155676706935586, u'Data': 0.002539812156660219, u'Search': 0.002736410487334385, u'Trader': 0.002681655098268791, u'Trades': 0.0026731467023981947, u'dog\\u2019': 0.0026298448295908943, u'seat': 0.0024559752140781016, u'Code': 0.002459345023220376, u'target': 0.0026836249203595936, u'ETFs': 0.0026868647005538955, u'future': 0.002774149647867603, u'ITT': 0.0027119755714296546, u'Information': 0.004039743812684782, u'DC': 0.002705013903359877, u'all-time': 0.0032580000689860916, u'Kit': 0.0025170946505233315, u'chairman': 0.0032243544614910745, u'Jones': 0.00252781305259869, u'+3901': 0.0028809129790396903, u'electric': 0.003246820899877253, u'Getting': 0.0029367610534605988, u'price': 0.0025519282219871155, u'Commodities': 0.0040398815507290894, u'Fottrell': 0.0031579249633194484, u'Games': 0.002573618663206168, u'plan': 0.0025430436336424662, u'Encore': 0.0027426242077676546, u'Reserve': 0.002960607980768738, u'Attorney': 0.0031433117725413583, u'Capitol': 0.002970175897081198, u'Viewer': 0.002761909311023816, u'sale': 0.0024538400810468963, u'Donald': 0.002762439136034399, u'Mansion': 0.0029349153113523516, u'Portfolio': 0.0035374156553362656, u'Berman': 0.002726611407231295, u'Hill': 0.0026002353525829795, u'Powell': 0.0027747484366411846, u'Pre-Market': 0.003738724554341931, u'Nvidia': 0.002845897334116792, u'Premium': 0.0030077144825907277, u'Big': 0.0025688973065337807, u'local': 0.002624735919634229, u'Movers': 0.002699654083687769, u'Taxes': 0.0025865784707375353, u'Popular': 0.0029866622123834595, u'Help': 0.0025978176148929114, u'Deck': 0.0025782575522627607, u'Overview': 0.0032071841266587213, u'Over': 0.002541272979477994, u'Funds/Insider': 0.004806626146268374, u'corruption': 0.0037846634080893433, u'twice': 0.002600921041911964, u'Guides': 0.002729331443906252, u'Investing': 0.0034477982255563676, u'showdown': 0.0033462254824117004, u'you\\u2019re': 0.002776843383450869, u'college': 0.0029500115936121614, u'Location': 0.003146869234151803, u'\\u2018free\\u2019': 0.0028052039285940858, u'subject': 0.003012709448119293, u'Delamaide': 0.00344895457968039, u'email': 0.00259844871637899, u'Advanced': 0.00320263229702277, u'Info': 0.002626438244235332, u'Soldier': 0.0028590789341936948, u'S': 0.002685250109313731, u'debt': 0.0025392150400070012, u'Advertise': 0.003403594192580023, u'last': 0.002510382174870547, u'Roster': 0.002676318516512677, u'Licensing': 0.003464317812471477, u'Headlines': 0.003346928158789172, u'Death': 0.002602688439813129, u'Log': 0.002569486023540874, u'Locally': 0.002988380505647135, u'ETF': 0.0027129965702207674, u'Online': 0.0027178821045924554, u'table': 0.0025968025693384566, u'Events': 0.0027543167966588723, u'Columns': 0.0029643328236030847, u'realtorcom': 0.0037600324783481106, u'Adviser': 0.002967545457027829, u'\\xa92017': 0.0028842119509563707, u'Buy': 0.002634181890854284, u'Get': 0.002460851007841591, u'Waters': 0.002682218697131319, u'Most': 0.0025213391647408295, u'much': 0.0026238726114427443, u'pm': 0.0026506780061017784, u'Center': 0.0026385715113889543, u'bull': 0.0026426831874184734, u'lousy': 0.0026649751581825564, u'Jillian': 0.0030063620330533095, u'Tesla': 0.002641251291084417, u'air': 0.002428181707341863, u'WSJcom': 0.002919742849782406, u'Market': 0.002682172176112099, u'site': 0.0024533826114414895, u'Content': 0.0028383359276052864, u'Tell': 0.0025755449260680355, u'Stock': 0.002683127633552359, u'MarketWatch': 0.004099998812095342, u'BigCharts': 0.003536297422760271, u'60-minutes': 0.0037907054249073906, u'status': 0.002779200924107631, u'reporting': 0.0034049982664950914, u'Jared': 0.002548515963678276, u'analysis': 0.0032665668205422555, u'Economic': 0.0032832674180650863, u'Tools': 0.0026529045903989005, u'Service': 0.00289785323235607, u'+3938': 0.0028820123435584727, u'money': 0.0025541576282221844, u'Social': 0.0027080480066548644, u'Markets': 0.0028884960092437515, u'Company': 0.002969441566447851, u'Broker': 0.0027355041837234728, u'Shouldn\\u2019t': 0.0035418927398667946, u'stock-market': 0.004419214644840351, u'News': 0.0025760887322809714, u'Top': 0.002581115654308588, u'Last': 0.002531271368063044, u'Jaffe': 0.0026647055287737976, u'SectorWatch': 0.004055585952051961, u'Europe/Middle': 0.004768197313895087, u'Trump': 0.002728736290800923, u'Share': 0.0025561096938281013, u'LaMagna': 0.0030497000277382013, u'Trading': 0.0029303575904532373, u'Fear': 0.0024784388493062277, u'Man': 0.002475296972063789, u'New': 0.0025416666888204193, u'Economy': 0.0030342926163662415, u'LatestNews': 0.0037782867205433156, u'Barron': 0.0027548575076443917, u'York\\u2019s': 0.0028014684188700217, u'Brett': 0.002607324520543722, u'Sponsored': 0.003446138675191103, u'Catey': 0.0025496363570092387, u'Planner': 0.0029079757591059185, u'Futures': 0.0029197288087893596, u'Up': 0.0026910512351445695, u'Pence': 0.0025536900855987745, u'Ivanka': 0.002816336508105736, u'First': 0.0026253321392744593, u'Comment': 0.0029017125157008027, u'Revolution': 0.003775294787241638, u'Clip': 0.002602056046299518, u'US': 0.002713884572274953, u'Calendar': 0.0031509982963601273, u'Advertising': 0.004061526539775993, u'Fed': 0.00250558725304051, u'No': 0.0025853353464249476, u'Alerts': 0.00272807564269893, u'Luxury': 0.0028890989665581283, u'financial': 0.00350500523360445, u'intraday': 0.0032296757653088805, u'bankruptcy': 0.00385380236414676, u'Finance': 0.0029356021343475676, u'Amy': 0.002645130846917633, u'Hulbert': 0.0029456587620466557, u'Cookie': 0.002728321227269935, u'low': 0.0025659475446605726, u'suit': 0.0025350574792475135, u'Obama': 0.002714202269980727, u'company\\u2019s': 0.0035145237960630175, u'buy': 0.0026342590006152495, u'delayed': 0.002932453024956818, u'Started': 0.0028654283764870925, u'NASDAQ': 0.003015575316263718, u'Small': 0.0026811259757879517, u'Dec': 0.0025002044427674067, u'buying': 0.0028152571782411335, u'Interactive': 0.003995116714620233, u'Wall': 0.00258767248741962, u'peso': 0.0025361124881243097, u'record': 0.0027646929197157446, u'pesos': 0.002627451928271607, u'Kellner': 0.0029312919341026892, u'Personal': 0.003151777310535158, u'How': 0.0025876287137088605, u'home': 0.0024792898396602714, u'Real': 0.0025169305542803804, u'%': 0.0027171876532468995, u'Kushner': 0.002974248405741984, u'Quentin': 0.0029345913074094736, u'+1072': 0.0028831122939135877, u'other': 0.0025877739585962994, u'Picking': 0.003022364222365296, u'Andrea': 0.002731268735553918, u'Maria': 0.0025595075336666043, u'KLM': 0.00272403365892624, u'AM': 0.002695291424165976, u'Cash': 0.002579349252108993, u'Future': 0.0027630307332876885, u'P/Dow': 0.0027968699818381525, u'Major': 0.0026397420524471114, u'Hoak': 0.002550536816550967, u'Mexican': 0.0029774748701558583, u'Ad': 0.0026415875788319138, u'Estate': 0.00273746158763328, u'Site': 0.0024541164063771686, u'time': 0.002466947876827972, u'fresh': 0.00264047095022378}\n",
      "====================================================================================================\n",
      "set([u'end-of-day', u'Columns Authors', u'milestone', u'Darrell Delamaide', u\"Figures'\", u'Pre-Market', u'Reserve Capitol', u'Business', u'Privacy', u'Shouldn\\u2019t', u'stock-market', u'Moneyologist', u'Advertise Locally', u'tethered', u'Nutting', u'SectorWatch', u'Funds/Insider', u'Europe/Middle', u'Headlines MarketWatch', u'Popular', u'Emerging', u'Jillian', u'Overview', u'Calendar Currency', u'LaMagna', u'Planning', u'financial', u'Network', u'Spending', u'Retirement Portfolio', u'Obamacare showdown', u'Conduct Corrections', u'college', u'Location', u'Economy', u'LatestNews', u'Columns Darrell', u'Feedback Newsroom', u'Sponsored', u'BigCharts Virtual', u'corruption', u'Advanced', u'exchange', u'Corrections Advertising', u'Historical', u'fixer-upper', u'Security', u'Jennifer Openshaw', u'MarketWatch Published', u'Guggenheim', u'Insight', u'conversation', u'Licensing', u'Faraday', u'Screener Options', u'SectorWatch Columns', u'Copyright', u'Palestinian', u'Economic Calendar', u'Convicted', u'Earnings', u'Commodities Currencies', u'intraday', u'Financial Information', u'Currencies', u'Contracts', u'Options', u'Coombes', u'Columns Options', u'NASDAQ', u'Snapshot', u'Mexican', u'Options Screener', u'presidency', u'Company Company', u'Intraday', u'Retirement', u'Personal', u'Hulbert Interactive', u'all-time', u'company\\u2019s bankruptcy', u'Screener Hulbert', u'Interactive Investing', u'information', u'Archive Premium', u'Kushner', u'MarketWatch', u'Clayton', u'Locally Reprints', u'60-minutes', u'chairman', u'Long-Term', u'Picking', u'subject', u'product', u'Exchange Financial', u'electric', u'Revolution Investing', u'reporting', u'Calendar Earnings', u'Adviser Columns', u'Fottrell', u'Portfolio', u'MarketWatch MarketWatch', u'MarketWatch Watchlist', u'Attorney', u'Earnings Calendar', u'analysis', u'Bischoff', u'Economic', u'Sponsored Headlines', u'MarketWatch Adviser', u'Openshaw Jennifer'])\n"
     ]
    }
   ],
   "source": [
    "### Get text from URL\n",
    "\n",
    "\n",
    "import urllib\n",
    "from bs4 import BeautifulSoup\n",
    "\n",
    "#url = \"https://finance.yahoo.com/news/you-can-change-your-iphone-battery-151208103.html\"  \n",
    "#url = \"https://finance.yahoo.com/news/david-pogue-best-tech-ideas-for-2016-152642724.html\"\n",
    "#url = \"https://finance.yahoo.com/news/the-worst-tech-moments-of-2016-191120332.html\"\n",
    "\n",
    "#url = \"http://www.bloomberg.com/news/articles/2016-12-30/apple-said-to-seek-lower-taxes-to-start-manufacturing-in-india-ixbnbvap\"\n",
    "#url = \"http://www.bloomberg.com/news/articles/2016-12-27/fitbit-gains-after-app-reaches-first-place-in-apple-store\"\n",
    "#url = \"http://www.bloomberg.com/news/articles/2016-12-22/popular-mobile-game-pokemon-go-lands-on-apple-watch\"\n",
    "\n",
    "#url =  \"http://uk.finance.yahoo.com/news/us-stocks-wall-st-ends-211832803.html\"\n",
    "#url = \"http://www.investopedia.com/news/apple-cuts-iphone-production-stock-slips-aapl/?partner=YahooSA\"\n",
    "#url = \"http://www.forbes.com/sites/ewanspence/2016/12/30/apple-news-headlines-iphone-leak-rumor-airpods-macbook-pro/?utm_source=yahoo&utm_medium=partner&utm_campaign=yahootix&partner=yahootix\"   \n",
    "\n",
    "\n",
    "#url = \"http://www.zacks.com/research-daily/99602/Top-Research-Reports-for-December-30,-2016?cid=CS-CNN-HL-99602\"\n",
    "#url = \"http://www.zacks.com/stock/news/244067/apple-aapl-continues-to-increase-its-focus-on-india?cid=CS-CNN-HL-244067\"\n",
    "#url = \"http://www.zacks.com/stock/news/244074/nintendo-to-launch-super-mario-runs-android-version-soon?cid=CS-CNN-HL-244074\"\n",
    "\n",
    "#url = \"http://www.marketwatch.com/story/apple-samsung-missed-opportunities-analysts-say-2016-12-28\"\n",
    "#url = \"http://www.marketwatch.com/story/foxconn-announces-plan-for-new-flat-panel-factory-in-china-2016-12-30\"\n",
    "url = \"http://www.marketwatch.com/story/5-things-you-should-absolutely-not-buy-in-2017-2016-12-30-12107041\"\n",
    "\n",
    "\n",
    "html = urllib.urlopen(url).read()\n",
    "soup = BeautifulSoup(html)\n",
    "\n",
    "# kill all script and style elements\n",
    "for script in soup([\"script\", \"style\"]):\n",
    "    script.extract()    # rip it out\n",
    "\n",
    "# get text\n",
    "text = soup.get_text()\n",
    "\n",
    "# break into lines and remove leading and trailing space on each\n",
    "lines = (line.strip() for line in text.splitlines())\n",
    "# break multi-headlines into a line each\n",
    "chunks = (phrase.strip() for line in lines for phrase in line.split(\"  \"))\n",
    "# drop blank lines\n",
    "text = '\\n'.join(chunk for chunk in chunks if chunk)\n",
    "\n",
    "#print(text)\n",
    "\n",
    "\n",
    "### Then TextRank\n",
    "\n",
    "page_rank, keyphrases = extractKeyphrases(text)\n",
    "\n",
    "print(page_rank)\n",
    "print (\"=\"*100)\n",
    "print(keyphrases)"
   ]
  },
  {
   "cell_type": "code",
   "execution_count": 39,
   "metadata": {
    "collapsed": false
   },
   "outputs": [
    {
     "name": "stdout",
     "output_type": "stream",
     "text": [
      "True\n",
      "False\n"
     ]
    }
   ],
   "source": [
    "\n",
    "def is_positive(word):\n",
    "    with open('positive_words.txt') as f:\n",
    "        found = False\n",
    "        for line in f:\n",
    "            if word.upper() in line: # Key line: check if `w` is in the line.\n",
    "                found = True\n",
    "                return found \n",
    "            else:\n",
    "                continue\n",
    "        return False\n",
    "    \n",
    "def is_negative(word):\n",
    "    with open('negative_words.txt') as f:\n",
    "        found = False\n",
    "        for line in f:\n",
    "            if word.upper() in line: # Key line: check if `w` is in the line.\n",
    "                found = True\n",
    "                return found \n",
    "            else:\n",
    "                continue\n",
    "        return False\n",
    "\n",
    "        \n",
    "print is_positive('strong')\n",
    "print is_negative('strong')"
   ]
  },
  {
   "cell_type": "code",
   "execution_count": 158,
   "metadata": {
    "collapsed": false
   },
   "outputs": [
    {
     "name": "stdout",
     "output_type": "stream",
     "text": [
      "1.0 0.0607698048068 0.116725740302 20 40 0.52062042742 0.5\n"
     ]
    }
   ],
   "source": [
    "d = page_rank\n",
    "positive_score = 0\n",
    "positive_count = 0\n",
    "negative_score = 0\n",
    "negative_count = 0\n",
    "su = 0\n",
    "for k,v in d.iteritems(): \n",
    "    k = k.encode('ascii', 'ignore').decode('ascii')\n",
    "    su = su + v \n",
    "    if k.isalpha() and (is_positive(str(k))):\n",
    "        #print \"%s - %f\" % (str(k), v)\n",
    "        positive_score = positive_score + v\n",
    "        positive_count = positive_count + 1\n",
    "        \n",
    "    elif k.isalpha() and (is_negative(str(k))):\n",
    "        negative_score = negative_score + v\n",
    "        negative_count = negative_count + 1\n",
    "                      \n",
    "    else:\n",
    "        continue\n",
    "print su, positive_score, negative_score, positive_count, negative_count, \\\n",
    "(positive_score/negative_score), (float(positive_count)/float(negative_count)), "
   ]
  },
  {
   "cell_type": "markdown",
   "metadata": {},
   "source": [
    "### https://finance.yahoo.com/news/the-worst-tech-moments-of-2016-191120332.html\n",
    "###  1.0 0.0439546986578 0.0932536308988 29 63 0.471 0.460 (Removing stopwords)\n",
    "###  1.0 0.0510288480223 0.099382432745 35 69 0.513 0.507 (Keeping stopwords)\n",
    "\n",
    "### https://finance.yahoo.com/news/you-can-change-your-iphone-battery-151208103.html\n",
    "### 1.0 0.0641297563117 0.0905783838755 20 28 0.708 0.714 (Removing stopwords)\n",
    "### 1.0 0.0636360849934 0.0951572991266 20 29 0.668 0.689 (Keeping stopwords)\n",
    "\n",
    "\n",
    "### https://finance.yahoo.com/news/david-pogue-best-tech-ideas-for-2016-152642724.html\n",
    "###  1.0 0.0735970225499 0.073067400756 41 41 1.01 1.0(Removing stopwords)\n",
    "###  1.0 0.0720756394798 0.0844750723022 41 48 0.853 0.854 (Keeping stopwords)\n",
    "\n",
    "\n",
    "# Finance Yahoo AVG Score, TextRank, WordCounts"
   ]
  },
  {
   "cell_type": "code",
   "execution_count": 147,
   "metadata": {
    "collapsed": false
   },
   "outputs": [
    {
     "name": "stdout",
     "output_type": "stream",
     "text": [
      "0.678\n",
      "0.0193166666667\n"
     ]
    }
   ],
   "source": [
    "import numpy as np\n",
    "values = [0.513, 0.668, 0.853]\n",
    "print np.mean(values)\n",
    "print np.var(values)"
   ]
  },
  {
   "cell_type": "markdown",
   "metadata": {},
   "source": [
    "### http://www.bloomberg.com/news/articles/2016-12-30/apple-said-to-seek-lower-taxes-to-start-manufacturing-in-india-ixbnbvap\n",
    "###  1.0 0.0440125829349 0.0796177307027 17 31 0.552798761614 0.548387096774 (Removing stopwords)\n",
    "###  1.0 0.0440401547541 0.0741848636141 17 29 0.593654185079 0.586206896552 (Keeping stopwords)\n",
    "\n",
    "### http://www.bloomberg.com/news/articles/2016-12-27/fitbit-gains-after-app-reaches-first-place-in-apple-store\n",
    "###  1.0 0.058847023895 0.0901091350112 19 29 0.653063908423 0.655172413793 (Removing stopwords)\n",
    "###  1.0 0.0581116828732 0.0891047216396 19 29 0.652172879325 0.655172413793 (Keeping stopwords)\n",
    "\n",
    "\n",
    "### http://www.bloomberg.com/news/articles/2016-12-22/popular-mobile-game-pokemon-go-lands-on-apple-watch\n",
    "###  1.0 0.0585964579846 0.0744559625863 17 22 0.786994834923 0.772727272727 (Removing stopwords)\n",
    "###  1.0 0.0575025080654 0.0731388825766 17 22 0.78620982492 0.772727272727 (Keeping stopwords)\n",
    "\n",
    "# Business Week AVG Score, TextRank, WordCounts"
   ]
  },
  {
   "cell_type": "code",
   "execution_count": 148,
   "metadata": {
    "collapsed": false
   },
   "outputs": [
    {
     "name": "stdout",
     "output_type": "stream",
     "text": [
      "0.677\n",
      "0.00652066666667\n"
     ]
    }
   ],
   "source": [
    "import numpy as np\n",
    "values = [0.593, 0.652, 0.786]\n",
    "print np.mean(values)\n",
    "print np.var(values)"
   ]
  },
  {
   "cell_type": "markdown",
   "metadata": {},
   "source": [
    "### http://uk.finance.yahoo.com/news/us-stocks-wall-st-ends-211832803.html\n",
    "###  1.0 0.0379488119665 0.115798503598 25 74 0.327714182717 0.337837837838 (Removing stopwords)\n",
    "###  1.0 0.0410101494058 0.110881352086 27 70 0.369856144739 0.385714285714 (Keeping stopwords)\n",
    "\n",
    "###  \"http://www.investopedia.com/news/apple-cuts-iphone-production-stock-slips-aapl/?partner=YahooSA\"\n",
    "###   1.0 0.104955227033 0.144401024667 29 36 0.726831594684 0.805555555556 (Removing stopwords)\n",
    "###   1.0 0.130676881843 0.145173399044 37 36 0.90014343333 1.02777777778 (Keeping stopwords)\n",
    "\n",
    "\n",
    "###  http://www.forbes.com/sites/ewanspence/2016/12/30/apple-news-headlines-iphone-leak-rumor-airpods-macbook-pro/?utm_source=yahoo&utm_medium=partner&utm_campaign=yahootix&partner=yahootix\"   \n",
    "###   1.0 0.0459634062259 0.113101878063 11 27 0.406389416455 0.407407407407 (Removing stopwords)\n",
    "###   1.0 0.0481751882425 0.11115760734 12 27 0.433395332947 0.444444444444 (Keeping stopwords)\n",
    "\n",
    "# Investor Guid AVG Score, TextRank, WordCounts"
   ]
  },
  {
   "cell_type": "code",
   "execution_count": 149,
   "metadata": {
    "collapsed": false
   },
   "outputs": [
    {
     "name": "stdout",
     "output_type": "stream",
     "text": [
      "0.567333333333\n",
      "0.0560162222222\n"
     ]
    }
   ],
   "source": [
    "import numpy as np\n",
    "values = [0.369, 0.900, 0.433]\n",
    "print np.mean(values)\n",
    "print np.var(values)"
   ]
  },
  {
   "cell_type": "markdown",
   "metadata": {},
   "source": [
    "###  http://www.zacks.com/research-daily/99602/Top-Research-Reports-for-December-30,-2016?cid=CS-CNN-HL-99602\n",
    "###  1.0 0.0663784490822 0.139212118822 39 81 0.476815162674 0.481481481481 (Removing stopwords)\n",
    "###  1.0 0.0653785485007 0.134715337247 38 77 0.48530887304 0.493506493506 (Keeping stopwords)\n",
    "\n",
    "###  http://www.zacks.com/stock/news/244067/apple-aapl-continues-to-increase-its-focus-on-india?cid=CS-CNN-HL-244067\n",
    "###  1.0 0.0781299481476 0.119772608674 46 70 0.652318998581 0.657142857143  (Removing stopwords)\n",
    "###  1.0 0.0742061396445 0.117341409811 43 67 0.632395160105 0.641791044776 (Keeping stopwords)\n",
    "\n",
    "\n",
    "###  http://www.zacks.com/stock/news/244074/nintendo-to-launch-super-mario-runs-android-version-soon?cid=CS-CNN-HL-244074 \n",
    "###   1.0 0.0818102029814 0.117408226028 48 66 0.696801286836 0.727272727273 (Removing stopwords)\n",
    "###   1.0 0.0797614811481 0.113222596075 46 62 0.704466104059 0.741935483871 (Keeping stopwords)\n",
    "\n",
    "# CNN Money AVG Score, TextRank, WordCounts\n",
    "\n"
   ]
  },
  {
   "cell_type": "code",
   "execution_count": 150,
   "metadata": {
    "collapsed": false
   },
   "outputs": [
    {
     "name": "stdout",
     "output_type": "stream",
     "text": [
      "0.607\n",
      "0.008306\n"
     ]
    }
   ],
   "source": [
    "import numpy as np\n",
    "values = [0.485, 0.632, 0.704]\n",
    "print np.mean(values)\n",
    "print np.var(values)"
   ]
  },
  {
   "cell_type": "markdown",
   "metadata": {},
   "source": [
    "###  http://www.marketwatch.com/story/apple-samsung-missed-opportunities-analysts-say-2016-12-28\n",
    "###   (Removing stopwords)\n",
    "###  1.0 0.0558185768987 0.125278151549 25 57 0.445557155885 0.438596491228 (Keeping stopwords)\n",
    "\n",
    "### http://www.marketwatch.com/story/foxconn-announces-plan-for-new-flat-panel-factory-in-china-2016-12-30\n",
    "###   (Removing stopwords)\n",
    "###  1.0 0.0639546640095 0.110097104489 29 51 0.580893242436 0.56862745098 (Keeping stopwords)\n",
    "\n",
    "\n",
    "###  http://www.marketwatch.com/story/5-things-you-should-absolutely-not-buy-in-2017-2016-12-30-12107041\n",
    "###   (Removing stopwords)\n",
    "###   1.0 0.0607698048068 0.116725740302 20 40 0.52062042742 0.5 (Keeping stopwords)\n",
    "\n",
    "\n",
    "\n",
    "# Market Watch AVG Score, TextRank, WordCounts"
   ]
  },
  {
   "cell_type": "code",
   "execution_count": 159,
   "metadata": {
    "collapsed": false
   },
   "outputs": [
    {
     "name": "stdout",
     "output_type": "stream",
     "text": [
      "0.515666666667\n",
      "0.00309688888889\n"
     ]
    }
   ],
   "source": [
    "import numpy as np\n",
    "values = [0.445, 0.581, 0.521]\n",
    "print np.mean(values)\n",
    "print np.var(values)"
   ]
  },
  {
   "cell_type": "code",
   "execution_count": null,
   "metadata": {
    "collapsed": true
   },
   "outputs": [],
   "source": [
    "yahoo, 0.678, 0.019\n",
    "businessweek 0.667, 0.006\n",
    "Investor Guide 0.567, 0.056\n",
    "cnn 0.706 0.008\n",
    "marketwatch 0.515, 0.003"
   ]
  },
  {
   "cell_type": "code",
   "execution_count": null,
   "metadata": {
    "collapsed": true
   },
   "outputs": [],
   "source": []
  }
 ],
 "metadata": {
  "kernelspec": {
   "display_name": "Python 2",
   "language": "python",
   "name": "python2"
  },
  "language_info": {
   "codemirror_mode": {
    "name": "ipython",
    "version": 2
   },
   "file_extension": ".py",
   "mimetype": "text/x-python",
   "name": "python",
   "nbconvert_exporter": "python",
   "pygments_lexer": "ipython2",
   "version": "2.7.11"
  }
 },
 "nbformat": 4,
 "nbformat_minor": 0
}
